{
 "cells": [
  {
   "cell_type": "markdown",
   "metadata": {
    "heading_collapsed": true
   },
   "source": [
    "### Make imports"
   ]
  },
  {
   "cell_type": "code",
   "execution_count": null,
   "metadata": {
    "ExecuteTime": {
     "end_time": "2020-07-09T10:02:34.341286Z",
     "start_time": "2020-07-09T10:02:34.216264Z"
    },
    "hidden": true
   },
   "outputs": [],
   "source": [
    "import io\n",
    "import os\n",
    "import sys\n",
    "import types\n",
    "import argparse\n",
    "import re\n",
    "import requests\n",
    "\n",
    "from urllib.parse import urlparse\n",
    "\n",
    "from IPython import get_ipython\n",
    "from IPython.core.magic import register_cell_magic\n",
    "from IPython.core.interactiveshell import InteractiveShell\n",
    "from io import StringIO\n",
    "from nbformat import read\n",
    "\n",
    "import urllib3\n",
    "urllib3.disable_warnings(urllib3.exceptions.InsecureRequestWarning)"
   ]
  },
  {
   "cell_type": "markdown",
   "metadata": {
    "heading_collapsed": true
   },
   "source": [
    "### Define constants"
   ]
  },
  {
   "cell_type": "code",
   "execution_count": null,
   "metadata": {
    "ExecuteTime": {
     "end_time": "2020-07-09T10:02:34.347568Z",
     "start_time": "2020-07-09T10:02:34.344506Z"
    },
    "hidden": true
   },
   "outputs": [],
   "source": [
    "ACCEPTED_FILE_EXT = ['ipynb', 'csv', 'py', 'txt']"
   ]
  },
  {
   "cell_type": "markdown",
   "metadata": {
    "heading_collapsed": true
   },
   "source": [
    "### Define parser"
   ]
  },
  {
   "cell_type": "code",
   "execution_count": null,
   "metadata": {
    "ExecuteTime": {
     "end_time": "2020-07-09T10:02:34.374800Z",
     "start_time": "2020-07-09T10:02:34.352173Z"
    },
    "hidden": true
   },
   "outputs": [],
   "source": [
    "def str2bool(v):\n",
    "    if isinstance(v, bool):\n",
    "        return v\n",
    "    if v.lower() in ('yes', 'true', 't', 'y', '1'):\n",
    "        return True\n",
    "    elif v.lower() in ('no', 'false', 'f', 'n', '0'):\n",
    "        return False\n",
    "    else:\n",
    "        raise argparse.ArgumentTypeError('Boolean value expected.')\n",
    "\n",
    "parser = argparse.ArgumentParser()\n",
    "parser.add_argument('--alias', type = str, required = False)\n",
    "parser.add_argument('--override', default=False, type = str2bool, required = False)"
   ]
  },
  {
   "cell_type": "markdown",
   "metadata": {
    "heading_collapsed": true
   },
   "source": [
    "### Code to make ipynb import\n",
    "https://jupyter-notebook.readthedocs.io/en/stable/examples/Notebook/Importing%20Notebooks.html"
   ]
  },
  {
   "cell_type": "code",
   "execution_count": null,
   "metadata": {
    "ExecuteTime": {
     "end_time": "2020-07-09T10:02:34.400469Z",
     "start_time": "2020-07-09T10:02:34.378928Z"
    },
    "hidden": true
   },
   "outputs": [],
   "source": [
    "def find_notebook(fullname, path=None):\n",
    "    \"\"\"find a notebook, given its fully qualified name and an optional path\n",
    "    This turns \"foo.bar\" into \"foo/bar.ipynb\"\n",
    "    and tries turning \"Foo_Bar\" into \"Foo Bar\" if Foo_Bar\n",
    "    does not exist.\n",
    "    \"\"\"\n",
    "    name = fullname.rsplit('.', 1)[-1]\n",
    "    if not path:\n",
    "        path = ['']\n",
    "    for d in path:\n",
    "        nb_path = os.path.join(d, name + \".ipynb\")\n",
    "        if os.path.isfile(nb_path):\n",
    "            return nb_path\n",
    "        # let import Notebook_Name find \"Notebook Name.ipynb\"\n",
    "        nb_path = nb_path.replace(\"_\", \" \")\n",
    "        if os.path.isfile(nb_path):\n",
    "            return nb_path\n",
    "\n",
    "\n",
    "class NotebookLoader(object):\n",
    "    \"\"\"Module Loader for Jupyter Notebooks\"\"\"\n",
    "    def __init__(self, path=None):\n",
    "        self.shell = InteractiveShell.instance()\n",
    "        self.path = path\n",
    "\n",
    "    def load_module(self, fullname):\n",
    "        \"\"\"import a notebook as a module\"\"\"\n",
    "        path = find_notebook(fullname, self.path)\n",
    "\n",
    "        print (\"importing Jupyter notebook from %s\" % path)\n",
    "\n",
    "        # load the notebook object\n",
    "        with io.open(path, 'r', encoding='utf-8') as f:\n",
    "            nb = read(f, 4)\n",
    "\n",
    "        mod = types.ModuleType(fullname)\n",
    "        mod.__file__ = path\n",
    "        mod.__loader__ = self\n",
    "        mod.__dict__['get_ipython'] = get_ipython\n",
    "        sys.modules[fullname] = mod\n",
    "\n",
    "        # extra work to ensure that magics that would affect the user_ns\n",
    "        # actually affect the notebook module's ns\n",
    "        save_user_ns = self.shell.user_ns\n",
    "        self.shell.user_ns = mod.__dict__\n",
    "\n",
    "        try:\n",
    "            for cell in nb.cells:\n",
    "                if cell.cell_type == 'code':\n",
    "                    # transform the input to executable Python\n",
    "                    code = self.shell.input_transformer_manager.transform_cell(cell.source)\n",
    "                    # run the code in themodule\n",
    "                    exec(code, mod.__dict__)\n",
    "        finally:\n",
    "            self.shell.user_ns = save_user_ns\n",
    "        return mod\n",
    "\n",
    "\n",
    "class NotebookFinder(object):\n",
    "    \"\"\"Module finder that locates Jupyter Notebooks\"\"\"\n",
    "    def __init__(self):\n",
    "        self.loaders = {}\n",
    "\n",
    "    def find_module(self, fullname, path='.'):\n",
    "        nb_path = find_notebook(fullname, path)\n",
    "        if not nb_path:\n",
    "            return\n",
    "\n",
    "        key = path\n",
    "        if path:\n",
    "            # lists aren't hashable\n",
    "            key = os.path.sep.join(path)\n",
    "\n",
    "        if key not in self.loaders:\n",
    "            self.loaders[key] = NotebookLoader(path)\n",
    "        return self.loaders[key]\n"
   ]
  },
  {
   "cell_type": "markdown",
   "metadata": {
    "heading_collapsed": true
   },
   "source": [
    "### Download the file to current container"
   ]
  },
  {
   "cell_type": "code",
   "execution_count": null,
   "metadata": {
    "ExecuteTime": {
     "end_time": "2020-07-09T10:02:34.415385Z",
     "start_time": "2020-07-09T10:02:34.404649Z"
    },
    "hidden": true
   },
   "outputs": [],
   "source": [
    "def download(dependency_url, alias=None, file_type='ipynb', auth=None, verify=False, **kwargs):\n",
    "    parse_path = urlparse(dependency_url)\n",
    "    path = \"/\".join(parse_path.path.rsplit('/')[2:])\n",
    "    netloc = parse_path.netloc\n",
    "    scheme = parse_path.scheme\n",
    "    content_api = f\"{scheme}://{netloc}/api/contents/\"\n",
    "    final_path = content_api + path\n",
    "    res = requests.get(final_path, auth=auth, verify=verify)\n",
    "    with open(alias, 'w') as out:\n",
    "        if file_type == 'ipynb':\n",
    "            data = json.dumps(res.json()['content'])\n",
    "        elif file_type in ['csv', 'py']:\n",
    "            data = res.json()['content']\n",
    "        else:\n",
    "            raise Exception(f\"Illigal file type : {file_type}. Currently it supports only .ipynb, .csv, .py and .txt\")\n",
    "        out.write(data)"
   ]
  },
  {
   "cell_type": "markdown",
   "metadata": {
    "heading_collapsed": true
   },
   "source": [
    "### Parse the cell containent"
   ]
  },
  {
   "cell_type": "code",
   "execution_count": null,
   "metadata": {
    "ExecuteTime": {
     "end_time": "2020-07-09T10:02:34.429651Z",
     "start_time": "2020-07-09T10:02:34.418597Z"
    },
    "hidden": true
   },
   "outputs": [],
   "source": [
    "def parse_cell(cell_info):\n",
    "    load_nbloader = False\n",
    "    buf = cell_info.getvalue().strip().split('\\n')\n",
    "    for line in buf:\n",
    "\n",
    "        line = line.split()\n",
    "        file_path = line[0]\n",
    "        file_ext = file_path.split('.')[-1]\n",
    "        if file_ext not in ACCEPTED_FILE_EXT:\n",
    "            raise Exception(f\"Illigal file type : {file_ext}. Currently it supports only .ipynb, .csv, .py and .txt\")\n",
    "        \n",
    "        args = parser.parse_args(line[1:])\n",
    "        params = vars(args)\n",
    "        alias = file_path.split('/')[-1] if not params['alias'] else params['alias']    \n",
    "        \n",
    "        is_file_name_exists = os.path.isfile(alias)\n",
    "\n",
    "        if is_file_name_exists and not params['override']:\n",
    "            print(f\"Skipping file with name {alias} since it already exists and override is False.\")\n",
    "        else:\n",
    "            if is_file_name_exists:\n",
    "                print(f\"Loading {file_path} and overriding the existing file with name {alias}\")\n",
    "            else:\n",
    "                print(f\"Loading {file_path} and saving it as {alias}\")\n",
    "        \n",
    "        download(file_path, alias, file_type=file_ext)\n",
    "        if file_ext == 'ipynb':\n",
    "            load_nbloader = True\n",
    "\n",
    "    return load_nbloader"
   ]
  },
  {
   "cell_type": "markdown",
   "metadata": {
    "heading_collapsed": true
   },
   "source": [
    "### Magic for loading"
   ]
  },
  {
   "cell_type": "code",
   "execution_count": null,
   "metadata": {
    "ExecuteTime": {
     "end_time": "2020-07-09T10:02:34.442476Z",
     "start_time": "2020-07-09T10:02:34.434778Z"
    },
    "hidden": true
   },
   "outputs": [],
   "source": [
    "@register_cell_magic\n",
    "def load_dependencies(line, cell):\n",
    "    sio = StringIO(cell)\n",
    "    if sio:\n",
    "        load_nbloader = parse_cell(sio)\n",
    "        if load_nbloader:\n",
    "            sys.meta_path.append(NotebookFinder())"
   ]
  },
  {
   "cell_type": "markdown",
   "metadata": {
    "heading_collapsed": true
   },
   "source": [
    "### Test load dependencies magic"
   ]
  },
  {
   "cell_type": "code",
   "execution_count": null,
   "metadata": {
    "ExecuteTime": {
     "end_time": "2020-07-09T10:02:36.015025Z",
     "start_time": "2020-07-09T10:02:34.447627Z"
    },
    "hidden": true
   },
   "outputs": [],
   "source": [
    "%%load_dependencies\n"
   ]
  },
  {
   "cell_type": "code",
   "execution_count": null,
   "metadata": {
    "ExecuteTime": {
     "end_time": "2020-07-09T10:02:36.510552Z",
     "start_time": "2020-07-09T10:02:36.021229Z"
    },
    "hidden": true
   },
   "outputs": [],
   "source": [
    "!ls"
   ]
  }
 ],
 "metadata": {
  "hide_input": false,
  "kernelspec": {
   "display_name": "Python - Infinite small 4G",
   "language": "python",
   "name": "doh_4g"
  },
  "language_info": {
   "codemirror_mode": {
    "name": "ipython",
    "version": 3
   },
   "file_extension": ".py",
   "mimetype": "text/x-python",
   "name": "python",
   "nbconvert_exporter": "python",
   "pygments_lexer": "ipython3",
   "version": "3.6.9"
  },
  "toc": {
   "base_numbering": 1,
   "nav_menu": {},
   "number_sections": true,
   "sideBar": true,
   "skip_h1_title": false,
   "title_cell": "Table of Contents",
   "title_sidebar": "Contents",
   "toc_cell": false,
   "toc_position": {},
   "toc_section_display": true,
   "toc_window_display": false
  }
 },
 "nbformat": 4,
 "nbformat_minor": 2
}
